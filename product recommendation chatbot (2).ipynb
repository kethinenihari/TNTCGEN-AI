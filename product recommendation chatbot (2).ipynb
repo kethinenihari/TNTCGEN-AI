{
  "nbformat": 4,
  "nbformat_minor": 0,
  "metadata": {
    "colab": {
      "provenance": []
    },
    "kernelspec": {
      "name": "python3",
      "display_name": "Python 3"
    },
    "language_info": {
      "name": "python"
    }
  },
  "cells": [
    {
      "cell_type": "code",
      "execution_count": 1,
      "metadata": {
        "colab": {
          "base_uri": "https://localhost:8080/"
        },
        "id": "s97ZULE13BBH",
        "outputId": "d58c795a-4dc0-46b9-8006-1cfa1eb55917"
      },
      "outputs": [
        {
          "output_type": "stream",
          "name": "stdout",
          "text": [
            "Recommended products for Laptop:\n",
            "1         Smartphone\n",
            "2         Headphones\n",
            "3      Running Shoes\n",
            "4            Blender\n",
            "5         Smartwatch\n",
            "6           Backpack\n",
            "7          Desk Lamp\n",
            "8           Yoga Mat\n",
            "9      Outdoor Grill\n",
            "10    Wireless Mouse\n",
            "Name: product_name, dtype: object\n"
          ]
        }
      ],
      "source": [
        "import pandas as pd\n",
        "from sklearn.feature_extraction.text import TfidfVectorizer\n",
        "from sklearn.metrics.pairwise import linear_kernel\n",
        "\n",
        "# Load the dataset\n",
        "df = pd.read_csv('/content/product recommendation chatbot(dataset).csv')\n",
        "\n",
        "# Drop any rows with missing values\n",
        "df.dropna(inplace=True)\n",
        "\n",
        "# Define a TF-IDF Vectorizer\n",
        "tfidf = TfidfVectorizer(stop_words='english')\n",
        "\n",
        "# Fit and transform the description data\n",
        "tfidf_matrix = tfidf.fit_transform(df['description'])\n",
        "\n",
        "# Compute cosine similarity\n",
        "cosine_sim = linear_kernel(tfidf_matrix, tfidf_matrix)\n",
        "\n",
        "def recommend_products(product_name, cosine_sim=cosine_sim):\n",
        "    # Get the index of the product that matches the product_name\n",
        "    idx = df[df['product_name'] == product_name].index[0]\n",
        "\n",
        "    # Get the pairwise similarity scores of all products with that product\n",
        "    sim_scores = list(enumerate(cosine_sim[idx]))\n",
        "\n",
        "    # Sort the products based on the similarity scores\n",
        "    sim_scores = sorted(sim_scores, key=lambda x: x[1], reverse=True)\n",
        "\n",
        "    # Get the top 10 most similar products\n",
        "    sim_scores = sim_scores[1:11]\n",
        "\n",
        "    # Get the product indices\n",
        "    product_indices = [i[0] for i in sim_scores]\n",
        "\n",
        "    # Return the top 10 most similar products\n",
        "    return df['product_name'].iloc[product_indices]\n",
        "\n",
        "# Example usage:\n",
        "product_name = 'Laptop'\n",
        "print(f\"Recommended products for {product_name}:\")\n",
        "print(recommend_products(product_name))\n"
      ]
    }
  ]
}